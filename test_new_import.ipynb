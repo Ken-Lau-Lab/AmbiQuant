{
 "cells": [
  {
   "cell_type": "markdown",
   "id": "cca08fb3-e7f4-4312-846a-8d2523ecfc96",
   "metadata": {},
   "source": [
    "# this function test if I can combine all function calling into one module\n",
    "- initial test seems work"
   ]
  },
  {
   "cell_type": "markdown",
   "id": "ceb9bf97-7a1e-47db-b34d-b3661e2150c8",
   "metadata": {},
   "source": [
    "## draft statments"
   ]
  },
  {
   "cell_type": "code",
   "execution_count": 4,
   "id": "63e360f0-eec1-4d6e-a768-3bec262a6641",
   "metadata": {},
   "outputs": [],
   "source": [
    "# from  calculation import *\n",
    "# from data_processing import *\n",
    "# from plot_quality_score import *\n",
    "# from quality_control_function import *\n",
    "\n",
    "# import sys\n",
    "# sys.path.append( \"./QCPipe_dir/\")\n",
    "\n",
    "# from QCPipe import *"
   ]
  },
  {
   "cell_type": "code",
   "execution_count": null,
   "id": "d5619564-643f-42e3-a196-15b9971253ed",
   "metadata": {},
   "outputs": [],
   "source": []
  },
  {
   "cell_type": "code",
   "execution_count": null,
   "id": "8ae6c32c-b49b-4aa9-a1fb-637a32535700",
   "metadata": {},
   "outputs": [],
   "source": []
  },
  {
   "cell_type": "code",
   "execution_count": 1,
   "id": "7ced6506-57a4-405e-9d01-cb72cef3bce9",
   "metadata": {},
   "outputs": [],
   "source": [
    "import AmbiQuantFunctions as ambf"
   ]
  },
  {
   "cell_type": "code",
   "execution_count": 2,
   "id": "659a4bc7-976a-4fb3-92b1-bce388048f15",
   "metadata": {},
   "outputs": [
    {
     "ename": "TypeError",
     "evalue": "formatted_figures_inverted() missing 1 required positional argument: 'dat'",
     "output_type": "error",
     "traceback": [
      "\u001b[0;31m---------------------------------------------------------------------------\u001b[0m",
      "\u001b[0;31mTypeError\u001b[0m                                 Traceback (most recent call last)",
      "Cell \u001b[0;32mIn[2], line 1\u001b[0m\n\u001b[0;32m----> 1\u001b[0m \u001b[43mambf\u001b[49m\u001b[38;5;241;43m.\u001b[39;49m\u001b[43mformatted_figures_inverted\u001b[49m\u001b[43m(\u001b[49m\u001b[43m \u001b[49m\u001b[43m)\u001b[49m\n",
      "\u001b[0;31mTypeError\u001b[0m: formatted_figures_inverted() missing 1 required positional argument: 'dat'"
     ]
    }
   ],
   "source": [
    "ambf.formatted_figures_inverted( )"
   ]
  },
  {
   "cell_type": "code",
   "execution_count": null,
   "id": "48ef03f7-dfd1-441e-8400-8650d0771afd",
   "metadata": {},
   "outputs": [],
   "source": []
  }
 ],
 "metadata": {
  "kernelspec": {
   "display_name": "qc_pipe",
   "language": "python",
   "name": "qc_pipe"
  },
  "language_info": {
   "codemirror_mode": {
    "name": "ipython",
    "version": 3
   },
   "file_extension": ".py",
   "mimetype": "text/x-python",
   "name": "python",
   "nbconvert_exporter": "python",
   "pygments_lexer": "ipython3",
   "version": "3.8.5"
  }
 },
 "nbformat": 4,
 "nbformat_minor": 5
}
